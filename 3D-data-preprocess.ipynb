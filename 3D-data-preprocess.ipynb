{
 "cells": [
  {
   "cell_type": "code",
   "execution_count": 2,
   "id": "5d0dfe8b",
   "metadata": {},
   "outputs": [],
   "source": [
    "# import networkx as nx\n",
    "import numpy as np\n",
    "import torch\n",
    "from torch_geometric.data import Data\n"
   ]
  },
  {
   "cell_type": "code",
   "execution_count": null,
   "id": "2c137a2a",
   "metadata": {},
   "outputs": [],
   "source": [
    "# download relevant CHIA-PET data from 4DN Data Portal"
   ]
  },
  {
   "cell_type": "code",
   "execution_count": null,
   "id": "e38ed549",
   "metadata": {},
   "outputs": [],
   "source": [
    "# once I settle on a Hi-C contact map/CHIA-PET, consider some bins under\n",
    "# a certain value (let's say 3) as 0, so don't consider them in a graph\n",
    "\n",
    "# 5 kbp res\n",
    "\n",
    "# need to map gene names to genomic coordinates - most likely using GRCh38 - a task by Jacob"
   ]
  },
  {
   "cell_type": "code",
   "execution_count": null,
   "id": "44a90eba",
   "metadata": {},
   "outputs": [],
   "source": [
    "# make a graph object from NetworkX from Hi-C or ChIA-PET,\n",
    "\n",
    "# and include network science properties (like pagerank) for each node\n",
    "# basically these things:\n",
    "# examples from https://github.com/EmmaDPaul/GRN-inference-using-GNN/blob/main/Preprocessing.ipynb\n",
    "# G = convert.to_networkx(basic_data, to_undirected=True)\n",
    "# pagerank = nx.algorithms.link_analysis.pagerank_alg.pagerank(G)\n",
    "# clustering_coef = nx.algorithms.cluster.clustering(G)\n",
    "# betweeness_centrality = nx.betweenness_centrality(G, k=50)\n"
   ]
  },
  {
   "cell_type": "code",
   "execution_count": null,
   "id": "c678728c",
   "metadata": {},
   "outputs": [
    {
     "data": {
      "text/plain": [
       "array([[0, 1, 2],\n",
       "       [3, 4, 5],\n",
       "       [6, 7, 8]])"
      ]
     },
     "execution_count": 8,
     "metadata": {},
     "output_type": "execute_result"
    }
   ],
   "source": [
    "test_cm = np.arange(0,9).reshape((3,3))"
   ]
  },
  {
   "cell_type": "code",
   "execution_count": 3,
   "id": "ded1f302",
   "metadata": {},
   "outputs": [],
   "source": [
    "\n",
    "basic_data = Data()"
   ]
  },
  {
   "cell_type": "code",
   "execution_count": null,
   "id": "71d6c25d",
   "metadata": {},
   "outputs": [],
   "source": []
  }
 ],
 "metadata": {
  "kernelspec": {
   "display_name": "GNN-GRN",
   "language": "python",
   "name": "python3"
  },
  "language_info": {
   "codemirror_mode": {
    "name": "ipython",
    "version": 3
   },
   "file_extension": ".py",
   "mimetype": "text/x-python",
   "name": "python",
   "nbconvert_exporter": "python",
   "pygments_lexer": "ipython3",
   "version": "3.11.11"
  }
 },
 "nbformat": 4,
 "nbformat_minor": 5
}
