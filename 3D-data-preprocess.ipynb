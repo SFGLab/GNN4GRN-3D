{
 "cells": [
  {
   "cell_type": "code",
   "execution_count": 61,
   "id": "5d0dfe8b",
   "metadata": {},
   "outputs": [],
   "source": [
    "import networkx as nx\n",
    "import numpy as np\n",
    "import torch\n",
    "from torch_geometric.data import Data\n",
    "import hicstraw\n",
    "import pandas as pd\n",
    "from torch_geometric.utils import convert\n",
    "import pickle\n"
   ]
  },
  {
   "cell_type": "markdown",
   "id": "020cd75b",
   "metadata": {},
   "source": [
    "Different approaches that could be considered to improve the 3D graph:\n",
    "- find a way to automatically handle outdated gene symbols corresponding to multiple modern gene symbols, so that they could be included in this dataset\n",
    "- increase flanking region to get more relevant contacts between genes\n",
    "- consider a different way to define contact strength between two genes: currently this method tries to avoid bin length bias in genes - it only picks one contact bin with highest count to define contact signal between genes\n",
    "- ignore contact frequency bin below a certain threshold and treat it as zero instead\n",
    "- consider a different way to define genomic coordinates for genes - currently the coordinates take into account one transcript, not its alternative spliced versions\n",
    "- speed up the mapping of genes to contacts"
   ]
  },
  {
   "cell_type": "code",
   "execution_count": null,
   "id": "40eda03d",
   "metadata": {},
   "outputs": [],
   "source": [
    "# parameters that I could extend to go into a config file\n",
    "flank_length = 0 #to include neighbouring regions around the gene to collect more contact frequency information\n",
    "res = 5000 # in bp, resolution of the contact map\n",
    "threshold = 0 # values under this threshold are considered to be 0 in a contact map"
   ]
  },
  {
   "cell_type": "code",
   "execution_count": null,
   "id": "0e2d9fe3",
   "metadata": {},
   "outputs": [],
   "source": [
    "# load the csv with gene names corresponding to genomic coordinates\n",
    "gene_locations = pd.read_csv(\"slim_hESC_symbols_mapped.csv\")\n",
    "# remove gene names that correspond to more than one gene in symbol mapping\n",
    "unique_map_gene_locations = gene_locations[gene_locations[\"Symbol.Alt\"].isnull()]\n",
    "\n",
    "# convert to 0-based indexing\n",
    "unique_map_gene_locations[\"Start.BP\"] = unique_map_gene_locations[\"Start.BP\"] - 1\n",
    "unique_map_gene_locations[\"End.BP\"] = unique_map_gene_locations[\"End.BP\"] - 1\n",
    "# assign a bin ID to each BP start and end \n",
    "unique_map_gene_locations[\"Start.BP.res5kbp\"] = unique_map_gene_locations[\"Start.BP\"].values // res\n",
    "unique_map_gene_locations[\"End.BP.res5kbp\"] = unique_map_gene_locations[\"End.BP\"].values // res\n",
    "\n",
    "# download relevant Hi-C data from 4DN Data Portal\n",
    "# downloaded from https://data.4dnucleome.org/files-processed/4DNFI2WSZPG9/#file-overview\n",
    "hic = hicstraw.HiCFile(\"4DNFI2WSZPG9.hic\")\n",
    "# highest res possible in this dataset: 1kbp, but we use 5kbp now\n",
    "\n",
    "# hic.getResolutions() # check available resolutions\n"
   ]
  },
  {
   "cell_type": "code",
   "execution_count": 80,
   "id": "12bb407e",
   "metadata": {},
   "outputs": [],
   "source": [
    "contacts = np.array([[1, 2], [0, 4]])\n",
    "threshold = 2"
   ]
  },
  {
   "cell_type": "code",
   "execution_count": null,
   "id": "3f34e056",
   "metadata": {},
   "outputs": [
    {
     "data": {
      "text/plain": [
       "array([[0, 2],\n",
       "       [0, 4]])"
      ]
     },
     "execution_count": 81,
     "metadata": {},
     "output_type": "execute_result"
    }
   ],
   "source": [
    "np.where(contacts < threshold, 0, contacts)"
   ]
  },
  {
   "cell_type": "code",
   "execution_count": null,
   "id": "1a035dab",
   "metadata": {},
   "outputs": [],
   "source": [
    "n_genes = len(unique_map_gene_locations)\n",
    "\n",
    "graph_data = []\n",
    "for i in range(0, n_genes):\n",
    "    for j in range(i, n_genes):\n",
    "        gene1 = unique_map_gene_locations.iloc[i][\"Symbol\"]\n",
    "        chrname1 = unique_map_gene_locations.iloc[i][\"Chromosome\"].removeprefix(\"chr\")\n",
    "        start1 = unique_map_gene_locations.iloc[i][\"Start.BP.res5kbp\"]\n",
    "        end1 = unique_map_gene_locations.iloc[i][\"End.BP.res5kbp\"]\n",
    "\n",
    "        gene2 = unique_map_gene_locations.iloc[j][\"Symbol\"]\n",
    "        chrname2 = unique_map_gene_locations.iloc[j][\"Chromosome\"].removeprefix(\"chr\")\n",
    "        start2 = unique_map_gene_locations.iloc[j][\"Start.BP.res5kbp\"]\n",
    "        end2 = unique_map_gene_locations.iloc[j][\"End.BP.res5kbp\"]\n",
    "\n",
    "\n",
    "        if start1 != 0:\n",
    "            start1 = start1 - flank_length\n",
    "        if start2 != 0:\n",
    "            start2 = start2 - flank_length\n",
    "\n",
    "        map = hic.getMatrixZoomData(chrname1, chrname2, \"oe\", \"VC_SQRT\", \"BP\", res) \n",
    "        contacts = map.getRecordsAsMatrix(start1*res, end1*res, start2*res, end2*res)\n",
    "        contacts = np.where(contacts < threshold, 0, contacts)\n",
    "        edge_value = np.max(contacts)\n",
    "        graph_data.append([gene1, gene2, edge_value])\n",
    "\n",
    "graph_data = np.array(graph_data)\n",
    "np.savetxt(\"3Ddata_graph_hESC_endoderm.csv\", graph_data, delimiter=\",\", fmt=\"%s\")\n"
   ]
  },
  {
   "cell_type": "code",
   "execution_count": null,
   "id": "7fe2418c",
   "metadata": {},
   "outputs": [],
   "source": [
    "graph_data = np.loadtxt(\"3Ddata_graph_hESC_endoderm.csv\", graph_data, delimiter=\",\")"
   ]
  },
  {
   "cell_type": "code",
   "execution_count": null,
   "id": "71d6c25d",
   "metadata": {},
   "outputs": [],
   "source": [
    "# convert the gene contact lists into a NetworkX graph object\n",
    "G = nx.Graph()"
   ]
  },
  {
   "cell_type": "code",
   "execution_count": 58,
   "id": "7aaea7c8",
   "metadata": {},
   "outputs": [],
   "source": [
    "for line in range(0, graph_data.shape[0]):\n",
    "    G.add_edge(graph_data[line, 0], graph_data[line, 1], value=graph_data[line, 2])\n"
   ]
  },
  {
   "cell_type": "code",
   "execution_count": null,
   "id": "71805cad",
   "metadata": {},
   "outputs": [],
   "source": [
    "pagerank = nx.algorithms.link_analysis.pagerank_alg.pagerank(G)\n",
    "clustering_coef = nx.algorithms.cluster.clustering(G)\n",
    "betweeness_centrality = nx.betweenness_centrality(G, k=50)"
   ]
  },
  {
   "cell_type": "code",
   "execution_count": 62,
   "id": "18a452df",
   "metadata": {},
   "outputs": [],
   "source": [
    "\n",
    "with open(\"endoderm_nx_graph.pkl\", \"wb\") as f:\n",
    "    pickle.dump(G, f)"
   ]
  }
 ],
 "metadata": {
  "kernelspec": {
   "display_name": "GNN-GRN",
   "language": "python",
   "name": "python3"
  },
  "language_info": {
   "codemirror_mode": {
    "name": "ipython",
    "version": 3
   },
   "file_extension": ".py",
   "mimetype": "text/x-python",
   "name": "python",
   "nbconvert_exporter": "python",
   "pygments_lexer": "ipython3",
   "version": "3.11.11"
  }
 },
 "nbformat": 4,
 "nbformat_minor": 5
}
