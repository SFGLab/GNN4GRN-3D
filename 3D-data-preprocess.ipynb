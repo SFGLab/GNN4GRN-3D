{
 "cells": [
  {
   "cell_type": "code",
   "execution_count": null,
   "id": "55495302-8dd1-4d77-bb1c-b4d2b931cf3f",
   "metadata": {},
   "outputs": [],
   "source": [
    "# !pip install hic-straw"
   ]
  },
  {
   "cell_type": "code",
   "execution_count": null,
   "id": "5d0dfe8b",
   "metadata": {},
   "outputs": [],
   "source": [
    "import networkx as nx\n",
    "import numpy as np\n",
    "import hicstraw\n",
    "import pandas as pd\n",
    "import pickle\n",
    "import os\n",
    "import time\n",
    "from concurrent.futures import ProcessPoolExecutor, as_completed"
   ]
  },
  {
   "cell_type": "markdown",
   "id": "020cd75b",
   "metadata": {},
   "source": [
    "Different approaches that could be considered to improve the 3D graph:\n",
    "- find a way to automatically handle outdated gene symbols corresponding to multiple modern gene symbols, so that they could be included in this dataset\n",
    "- increase flanking region to get more relevant contacts between genes\n",
    "- consider a different way to define contact strength between two genes: currently this method tries to avoid bin length bias in genes - it only picks one contact bin with highest count to define contact signal between genes\n",
    "- ignore contact frequency bin below a certain threshold and treat it as zero instead\n",
    "- consider a different way to define genomic coordinates for genes - currently the coordinates take into account one transcript, not its alternative spliced versions\n",
    "- speed up the mapping of genes to contacts"
   ]
  },
  {
   "cell_type": "code",
   "execution_count": null,
   "id": "40eda03d",
   "metadata": {},
   "outputs": [],
   "source": [
    "# parameters that I could extend to go into a config file\n",
    "res = 5000 # in bp, resolution of the contact map\n",
    "flank_length = 4 #to include neighbouring regions around the gene to collect more contact frequency information (in bins)\n",
    "threshold = 1.0# values under this threshold are considered to be 0 in a contact map"
   ]
  },
  {
   "cell_type": "code",
   "execution_count": null,
   "id": "be252a7f-573f-4ac1-b0be-dbd006876386",
   "metadata": {},
   "outputs": [],
   "source": [
    "# load the csv with gene names corresponding to genomic coordinates\n",
    "gene_locations = pd.read_csv(\"./symbol_mapping/00_BEELINE_hESC_run/slim_hESC_symbols_mapped.csv\")\n",
    "# remove gene names that correspond to more than one gene in symbol mapping\n",
    "unique_map_gene_locations = gene_locations.loc[gene_locations[\"Symbol.Alt\"].isnull(), :].copy()\n",
    "\n",
    "# convert to 0-based indexing\n",
    "unique_map_gene_locations[\"Start.BP\"] = unique_map_gene_locations[\"Start.BP\"] - 1\n",
    "unique_map_gene_locations[\"End.BP\"] = unique_map_gene_locations[\"End.BP\"] - 1\n",
    "# assign a bin ID to each BP start and end \n",
    "unique_map_gene_locations[\"Start.BP.res5kbp\"] = unique_map_gene_locations[\"Start.BP\"].values // res\n",
    "unique_map_gene_locations[\"End.BP.res5kbp\"] = unique_map_gene_locations[\"End.BP\"].values // res"
   ]
  },
  {
   "cell_type": "code",
   "execution_count": null,
   "id": "1bedf2dd-ceb8-450d-a743-81b9e902a540",
   "metadata": {},
   "outputs": [],
   "source": [
    "# unique_map_gene_locations = unique_map_gene_locations.head(10)\n",
    "# unique_map_gene_locations"
   ]
  },
  {
   "cell_type": "code",
   "execution_count": null,
   "id": "d29c304c-b3cf-4d90-9fa5-fa1dd3711743",
   "metadata": {},
   "outputs": [],
   "source": [
    "# download relevant Hi-C data from 4DN Data Portal\n",
    "# downloaded from https://data.4dnucleome.org/files-processed/4DNFI2WSZPG9/#file-overview\n",
    "\n",
    "# You can use the command below:\n",
    "# !wget -P ./data/ https://4dn-open-data-public.s3.amazonaws.com/fourfront-webprod/wfoutput/9e26fac7-1e30-4abb-8946-8a23b3487365/4DNFI2WSZPG9.hic"
   ]
  },
  {
   "cell_type": "code",
   "execution_count": null,
   "id": "8ec5d362-9ed8-4a01-bfc1-eef1558d72d3",
   "metadata": {},
   "outputs": [],
   "source": [
    "hic = hicstraw.HiCFile(\"./data/4DNFI2WSZPG9.hic\")\n",
    "# highest res possible in this dataset: 1kbp, but we use 5kbp now\n",
    "\n",
    "chrom_sizes = {ch.name: ch.length for ch in hic.getChromosomes()}\n",
    "# print(chrom_sizes)\n",
    "\n",
    "# hic.getResolutions() # check available resolutions"
   ]
  },
  {
   "cell_type": "code",
   "execution_count": null,
   "id": "b0908c0d-9bc5-44c3-876f-81f68a736ff0",
   "metadata": {},
   "outputs": [],
   "source": [
    "n_genes = len(unique_map_gene_locations)\n",
    "\n",
    "graph_data = []\n",
    "\n",
    "def _compute_gene(i):\n",
    "    t0 = time.time()\n",
    "    results = np.zeros(n_genes, dtype=float)\n",
    "    \n",
    "    for j in range(n_genes):        \n",
    "        gene1 = unique_map_gene_locations.iloc[i][\"Symbol\"]\n",
    "        chrname1 = unique_map_gene_locations.iloc[i][\"Chromosome\"].removeprefix(\"chr\")\n",
    "        start1 = unique_map_gene_locations.iloc[i][\"Start.BP.res5kbp\"]\n",
    "        end1 = unique_map_gene_locations.iloc[i][\"End.BP.res5kbp\"]\n",
    "    \n",
    "        gene2 = unique_map_gene_locations.iloc[j][\"Symbol\"]\n",
    "        chrname2 = unique_map_gene_locations.iloc[j][\"Chromosome\"].removeprefix(\"chr\")\n",
    "        start2 = unique_map_gene_locations.iloc[j][\"Start.BP.res5kbp\"]\n",
    "        end2 = unique_map_gene_locations.iloc[j][\"End.BP.res5kbp\"]\n",
    "\n",
    "        if i == j:\n",
    "            results[j] = 0.0\n",
    "            continue\n",
    "            \n",
    "        flank_length = 1\n",
    "        start1 = (start1 - flank_length) * res\n",
    "        start2 = (start2 - flank_length) * res\n",
    "        end1 = (end1 + 1 + flank_length) * res - 1\n",
    "        end2 = (end2 + 1 + flank_length) * res - 1\n",
    "\n",
    "        # clip to data size\n",
    "        start1 = max(0, min(chrom_sizes[chrname1] - 1, start1))\n",
    "        start2 = max(0, min(chrom_sizes[chrname2] - 1, start2))\n",
    "        end1 = max(0, min(chrom_sizes[chrname1] - 1, end1))\n",
    "        end2 = max(0, min(chrom_sizes[chrname2] - 1, end2))\n",
    "    \n",
    "        map = hic.getMatrixZoomData(chrname1, chrname2, \"oe\", \"VC_SQRT\", \"BP\", res) \n",
    "        contacts = map.getRecordsAsMatrix(start1, end1, start2, end2)\n",
    "        # print(contacts.shape)\n",
    "        contacts = np.where(contacts < threshold, 0, contacts)\n",
    "        edge_value = np.max(contacts)\n",
    "        results[j] = edge_value\n",
    "\n",
    "    return i, results, t0\n",
    "\n",
    "# print(_compute_gene(3))"
   ]
  },
  {
   "cell_type": "code",
   "execution_count": null,
   "id": "57fb2dea-09f0-423b-a1aa-2f5bc06721aa",
   "metadata": {},
   "outputs": [],
   "source": [
    "graph_data = np.zeros((n_genes, n_genes), dtype=float)\n",
    "\n",
    "max_workers = os.cpu_count() - 1 \n",
    "with ProcessPoolExecutor(max_workers=max_workers) as executor:\n",
    "    print(f\"Computing for {n_genes} genes with {max_workers} workers\")\n",
    "    futures = [executor.submit(_compute_gene, i) for i in range(n_genes)]\n",
    "    for future in as_completed(futures):\n",
    "        i, result, t0 = future.result()\n",
    "        gene1 = unique_map_gene_locations.iloc[i][\"Symbol\"]\n",
    "        print(f\"Computed for gene {i}({gene1}) in {time.time() - t0:.2f}s\")\n",
    "        graph_data[i, :] = result\n",
    "\n",
    "np.savetxt(\"./data/3Ddata_graph_hESC_endoderm.csv\", graph_data, delimiter=\",\", fmt=\"%s\")"
   ]
  }
 ],
 "metadata": {
  "kernelspec": {
   "display_name": "Python 3 (ipykernel)",
   "language": "python",
   "name": "python3"
  },
  "language_info": {
   "codemirror_mode": {
    "name": "ipython",
    "version": 3
   },
   "file_extension": ".py",
   "mimetype": "text/x-python",
   "name": "python",
   "nbconvert_exporter": "python",
   "pygments_lexer": "ipython3",
   "version": "3.11.12"
  }
 },
 "nbformat": 4,
 "nbformat_minor": 5
}
